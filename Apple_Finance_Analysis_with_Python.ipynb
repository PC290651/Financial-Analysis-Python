# ==============================
# 📊 Finance with Python (Google Colab)
# ==============================

# 1. Install required libraries (if not already installed)
!pip install yfinance pandas matplotlib openpyxl --quiet

# 2. Import libraries
import yfinance as yf
import pandas as pd
import matplotlib.pyplot as plt

# -------------------------------
# PART 1: BASIC STOCK DATA
# -------------------------------

# Download stock data (Example: Apple)
stock = yf.download("AAPL", start="2022-01-01", end="2023-12-31")

# Show first 5 rows
print("📌 Stock Data (Apple - AAPL):")
print(stock.head())

# -------------------------------
# PART 2: BASIC ANALYSIS
# -------------------------------

# Closing price plot
plt.figure(figsize=(10,5))
plt.plot(stock['Close'], label="AAPL Closing Price")
plt.title("Apple Stock Price (2022-2023)")
plt.xlabel("Date")
plt.ylabel("Price (USD)")
plt.legend()
plt.show()

# -------------------------------
# PART 3: DAILY RETURNS
# -------------------------------

stock['Daily Return'] = stock['Close'].pct_change()
print("\n📌 Daily Returns:")
print(stock['Daily Return'].head())

plt.figure(figsize=(10,5))
stock['Daily Return'].hist(bins=50)
plt.title("Daily Return Distribution - Apple")
plt.show()

# -------------------------------
# PART 4: MOVING AVERAGES
# -------------------------------

stock['MA20'] = stock['Close'].rolling(window=20).mean()
stock['MA50'] = stock['Close'].rolling(window=50).mean()

plt.figure(figsize=(12,6))
plt.plot(stock['Close'], label="Close Price")
plt.plot(stock['MA20'], label="20-Day MA")
plt.plot(stock['MA50'], label="50-Day MA")
plt.title("Apple Stock with Moving Averages")
plt.legend()
plt.show()

# -------------------------------
# PART 5: RISK & RETURN (Portfolio Example)
# -------------------------------

# Download multiple stocks
tickers = ["AAPL", "MSFT", "GOOGL"]
data = yf.download(tickers, start="2022-01-01", end="2023-12-31")['Close']

# Calculate daily returns
returns = data.pct_change()

# Average annual returns
annual_return = returns.mean() * 252
print("\n📌 Annual Returns:")
print(annual_return)

# Covariance matrix
cov_matrix = returns.cov() * 252
print("\n📌 Covariance Matrix:")
print(cov_matrix)

# Example: Equal weights portfolio
weights = [1/3, 1/3, 1/3]
portfolio_return = sum(weights * annual_return)
portfolio_volatility = (weights @ cov_matrix @ weights) ** 0.5

print(f"\n📌 Portfolio Expected Return: {portfolio_return:.2%}")
print(f"📌 Portfolio Volatility: {portfolio_volatility:.2%}")

# -------------------------------
# PART 6: EXPORT TO EXCEL
# -------------------------------

# Save stock data with indicators
stock.to_excel("Apple_Finance_Data.xlsx", index=True)
print("\n✅ Data saved to Excel (Apple_Finance_Data.xlsx)")
